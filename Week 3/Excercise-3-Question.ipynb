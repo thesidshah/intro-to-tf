{
 "cells": [
  {
   "cell_type": "markdown",
   "metadata": {
    "colab_type": "text",
    "id": "iQjHqsmTAVLU"
   },
   "source": [
    "## Exercise 3\n",
    "In the videos you looked at how you would improve Fashion MNIST using Convolutions. For your exercise see if you can improve MNIST to 99.8% accuracy or more using only a single convolutional layer and a single MaxPooling 2D. You should stop training once the accuracy goes above this amount. It should happen in less than 20 epochs, so it's ok to hard code the number of epochs for training, but your training must end once it hits the above metric. If it doesn't, then you'll need to redesign your layers.\n",
    "\n",
    "I've started the code for you -- you need to finish it!\n",
    "\n",
    "When 99.8% accuracy has been hit, you should print out the string \"Reached 99.8% accuracy so cancelling training!\"\n"
   ]
  },
  {
   "cell_type": "code",
   "execution_count": 3,
   "metadata": {},
   "outputs": [],
   "source": [
    "import tensorflow as tf"
   ]
  },
  {
   "cell_type": "code",
   "execution_count": 4,
   "metadata": {
    "colab": {},
    "colab_type": "code",
    "id": "sfQRyaJWAIdg"
   },
   "outputs": [],
   "source": [
    "# GRADED FUNCTION: train_mnist_conv\n",
    "def train_mnist_conv():\n",
    "    # Please write your code only where you are indicated.\n",
    "    # please do not remove model fitting inline comments.\n",
    "\n",
    "    # YOUR CODE STARTS HERE\n",
    "    class myCallback(tf.keras.callbacks.Callback):\n",
    "      def on_epoch_end(self, epoch, logs={}):\n",
    "        if(logs.get('acc') > .998):\n",
    "          print(\"\\nReached 99.8% accuracy so cancelling training!\")\n",
    "          self.model.stop_training = True\n",
    "    callbacks = myCallback() \n",
    "    # YOUR CODE ENDS HERE\n",
    "\n",
    "    mnist = tf.keras.datasets.mnist\n",
    "    (training_images, training_labels), (test_images, test_labels) = mnist.load_data()\n",
    "    # YOUR CODE STARTS HERE\n",
    "    training_images = training_images.reshape(training_images.shape[0],training_images.shape[1],training_images.shape[2],1)\n",
    "    training_images = training_images/255.0\n",
    "    test_images = test_images.reshape(test_images.shape[0],test_images.shape[1],test_images.shape[2],1)\n",
    "    test_images = test_images/255.0\n",
    "    # YOUR CODE ENDS HERE\n",
    "\n",
    "    model = tf.keras.models.Sequential([\n",
    "            # YOUR CODE STARTS HERE\n",
    "        tf.keras.layers.Conv2D(64,(3,3),activation='relu',input_shape=(28,28,1)),\n",
    "        tf.keras.layers.MaxPooling2D(2,2),\n",
    "        tf.keras.layers.Flatten(),\n",
    "        tf.keras.layers.Dense(524,activation='relu'),\n",
    "        tf.keras.layers.Dense(10,activation='softmax')\n",
    "            # YOUR CODE ENDS HERE\n",
    "    ])\n",
    "\n",
    "    model.compile(optimizer='adam', loss='sparse_categorical_crossentropy', metrics=['accuracy'])\n",
    "    # model fitting\n",
    "    history = model.fit(\n",
    "        # YOUR CODE STARTS HERE\n",
    "    training_images,training_labels,epochs=20,callbacks=[callbacks]\n",
    "        # YOUR CODE ENDS HERE\n",
    "    )\n",
    "    # model fitting\n",
    "    return history.epoch, history.history['acc'][-1]\n",
    "\n"
   ]
  },
  {
   "cell_type": "code",
   "execution_count": 5,
   "metadata": {},
   "outputs": [
    {
     "name": "stdout",
     "output_type": "stream",
     "text": [
      "Downloading data from https://storage.googleapis.com/tensorflow/tf-keras-datasets/mnist.npz\n",
      "11493376/11490434 [==============================] - 0s 0us/step\n"
     ]
    },
    {
     "name": "stderr",
     "output_type": "stream",
     "text": [
      "WARNING: Logging before flag parsing goes to stderr.\n",
      "W0517 07:02:06.010256 140446553614144 deprecation.py:506] From /usr/local/lib/python3.6/dist-packages/tensorflow/python/ops/init_ops.py:1251: calling VarianceScaling.__init__ (from tensorflow.python.ops.init_ops) with dtype is deprecated and will be removed in a future version.\n",
      "Instructions for updating:\n",
      "Call initializer instance with the dtype argument instead of passing it to the constructor\n"
     ]
    },
    {
     "name": "stdout",
     "output_type": "stream",
     "text": [
      "Epoch 1/20\n",
      "60000/60000 [==============================] - 20s 335us/sample - loss: 0.1185 - acc: 0.9642\n",
      "Epoch 2/20\n",
      "60000/60000 [==============================] - 18s 293us/sample - loss: 0.0380 - acc: 0.9878\n",
      "Epoch 3/20\n",
      "60000/60000 [==============================] - 18s 300us/sample - loss: 0.0222 - acc: 0.9927\n",
      "Epoch 4/20\n",
      "60000/60000 [==============================] - 17s 288us/sample - loss: 0.0131 - acc: 0.9958\n",
      "Epoch 5/20\n",
      "60000/60000 [==============================] - 18s 293us/sample - loss: 0.0102 - acc: 0.9967\n",
      "Epoch 6/20\n",
      "60000/60000 [==============================] - 18s 293us/sample - loss: 0.0071 - acc: 0.9978\n",
      "Epoch 7/20\n",
      "60000/60000 [==============================] - 17s 292us/sample - loss: 0.0063 - acc: 0.9980\n",
      "Epoch 8/20\n",
      "59616/60000 [============================>.] - ETA: 0s - loss: 0.0051 - acc: 0.9983\n",
      "Reached 99.8% accuracy so cancelling training!\n",
      "60000/60000 [==============================] - 17s 285us/sample - loss: 0.0052 - acc: 0.9982\n"
     ]
    }
   ],
   "source": [
    "_, _ = train_mnist_conv()"
   ]
  },
  {
   "cell_type": "code",
   "execution_count": null,
   "metadata": {},
   "outputs": [],
   "source": []
  }
 ],
 "metadata": {
  "coursera": {
   "course_slug": "introduction-tensorflow",
   "graded_item_id": "ml06H",
   "launcher_item_id": "hQF8A"
  },
  "kernelspec": {
   "display_name": "Python 3",
   "language": "python",
   "name": "python3"
  },
  "language_info": {
   "codemirror_mode": {
    "name": "ipython",
    "version": 3
   },
   "file_extension": ".py",
   "mimetype": "text/x-python",
   "name": "python",
   "nbconvert_exporter": "python",
   "pygments_lexer": "ipython3",
   "version": "3.6.8"
  }
 },
 "nbformat": 4,
 "nbformat_minor": 1
}
